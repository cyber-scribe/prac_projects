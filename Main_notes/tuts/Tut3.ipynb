{
  "nbformat": 4,
  "nbformat_minor": 0,
  "metadata": {
    "colab": {
      "provenance": [],
      "authorship_tag": "ABX9TyORcT2uW8JVL978o4LHhoVD",
      "include_colab_link": true
    },
    "kernelspec": {
      "name": "python3",
      "display_name": "Python 3"
    },
    "language_info": {
      "name": "python"
    }
  },
  "cells": [
    {
      "cell_type": "markdown",
      "metadata": {
        "id": "view-in-github",
        "colab_type": "text"
      },
      "source": [
        "<a href=\"https://colab.research.google.com/github/cyber-scribe/prac_projects/blob/main/Tut3.ipynb\" target=\"_parent\"><img src=\"https://colab.research.google.com/assets/colab-badge.svg\" alt=\"Open In Colab\"/></a>"
      ]
    },
    {
      "cell_type": "markdown",
      "source": [
        "Numpy & Matplotlib Python Library\n"
      ],
      "metadata": {
        "id": "AuUGQnqJvjMk"
      }
    },
    {
      "cell_type": "code",
      "execution_count": null,
      "metadata": {
        "colab": {
          "base_uri": "https://localhost:8080/"
        },
        "id": "-_xR0Xokvdwf",
        "outputId": "dbae9bf4-78d7-4fd2-9ec4-c727776fd791"
      },
      "outputs": [
        {
          "output_type": "stream",
          "name": "stdout",
          "text": [
            "[ 8 24  8 54 48]\n"
          ]
        }
      ],
      "source": [
        "# .array\n",
        "import numpy\n",
        "mass= numpy.array([2,3,4,6,8])\n",
        "accle= numpy.array([4,8,2,9,6])\n",
        "forces= mass * accle\n",
        "print(forces)"
      ]
    },
    {
      "cell_type": "code",
      "source": [
        "z = numpy.array([[1,2,3,4],[5,6,4,7],[6,8,7,9]],dtype=float)\n",
        "print(z)"
      ],
      "metadata": {
        "colab": {
          "base_uri": "https://localhost:8080/"
        },
        "id": "GmasV0FqzGDY",
        "outputId": "7ea8f439-3abd-41d4-f5bc-7ef40e2b0c2f"
      },
      "execution_count": null,
      "outputs": [
        {
          "output_type": "stream",
          "name": "stdout",
          "text": [
            "[[1. 2. 3. 4.]\n",
            " [5. 6. 4. 7.]\n",
            " [6. 8. 7. 9.]]\n"
          ]
        }
      ]
    },
    {
      "cell_type": "code",
      "source": [
        "# .arange\n",
        "x = numpy.arange(101, 201, 3)\n",
        "x"
      ],
      "metadata": {
        "colab": {
          "base_uri": "https://localhost:8080/"
        },
        "id": "eswhSdVt0Pqw",
        "outputId": "9e518e47-0a12-4976-a916-dfd6e0b2bf8a"
      },
      "execution_count": null,
      "outputs": [
        {
          "output_type": "execute_result",
          "data": {
            "text/plain": [
              "array([101, 104, 107, 110, 113, 116, 119, 122, 125, 128, 131, 134, 137,\n",
              "       140, 143, 146, 149, 152, 155, 158, 161, 164, 167, 170, 173, 176,\n",
              "       179, 182, 185, 188, 191, 194, 197, 200])"
            ]
          },
          "metadata": {},
          "execution_count": 33
        }
      ]
    },
    {
      "cell_type": "code",
      "source": [
        "# .linspace\n",
        "x = numpy.linspace(0, 30, 5)\n",
        "x"
      ],
      "metadata": {
        "colab": {
          "base_uri": "https://localhost:8080/"
        },
        "id": "3FFcc9RY1Kvp",
        "outputId": "9234121e-9220-4f48-92f5-6693f7cc5fe2"
      },
      "execution_count": null,
      "outputs": [
        {
          "output_type": "execute_result",
          "data": {
            "text/plain": [
              "array([ 0. ,  7.5, 15. , 22.5, 30. ])"
            ]
          },
          "metadata": {},
          "execution_count": 34
        }
      ]
    },
    {
      "cell_type": "code",
      "source": [
        "''' methods of numpy\n",
        " Size : return the total element counts'''\n",
        "y = numpy.arange(0,16,1)\n",
        "y.size"
      ],
      "metadata": {
        "colab": {
          "base_uri": "https://localhost:8080/"
        },
        "id": "kB2-hIU31-c6",
        "outputId": "1b2b28fc-82e2-4b37-ffc7-59a6e966083c"
      },
      "execution_count": null,
      "outputs": [
        {
          "output_type": "execute_result",
          "data": {
            "text/plain": [
              "16"
            ]
          },
          "metadata": {},
          "execution_count": 43
        }
      ]
    },
    {
      "cell_type": "code",
      "source": [
        "y"
      ],
      "metadata": {
        "colab": {
          "base_uri": "https://localhost:8080/"
        },
        "id": "DRKut8zd2k93",
        "outputId": "d18812e0-766c-4a08-dc47-babbc0cf779c"
      },
      "execution_count": null,
      "outputs": [
        {
          "output_type": "execute_result",
          "data": {
            "text/plain": [
              "array([ 0,  1,  2,  3,  4,  5,  6,  7,  8,  9, 10, 11, 12, 13, 14, 15])"
            ]
          },
          "metadata": {},
          "execution_count": 44
        }
      ]
    },
    {
      "cell_type": "code",
      "source": [
        "# .shape\n",
        "y.shape #vector hence such a output"
      ],
      "metadata": {
        "colab": {
          "base_uri": "https://localhost:8080/"
        },
        "id": "NX6ZNWgn2m2x",
        "outputId": "2d195fd9-31a0-4020-c7ba-becdbe4c09db"
      },
      "execution_count": null,
      "outputs": [
        {
          "output_type": "execute_result",
          "data": {
            "text/plain": [
              "(16,)"
            ]
          },
          "metadata": {},
          "execution_count": 45
        }
      ]
    },
    {
      "cell_type": "code",
      "source": [
        "# .reshape\n",
        "y.reshape(4,4)"
      ],
      "metadata": {
        "colab": {
          "base_uri": "https://localhost:8080/"
        },
        "id": "wWeEVmX72-Zv",
        "outputId": "247526af-9dc6-4ba4-8b77-92a60ac32b3a"
      },
      "execution_count": null,
      "outputs": [
        {
          "output_type": "execute_result",
          "data": {
            "text/plain": [
              "array([[ 0,  1,  2,  3],\n",
              "       [ 4,  5,  6,  7],\n",
              "       [ 8,  9, 10, 11],\n",
              "       [12, 13, 14, 15]])"
            ]
          },
          "metadata": {},
          "execution_count": 46
        }
      ]
    },
    {
      "cell_type": "code",
      "source": [
        "# .resize\n",
        "y = numpy.arange(0,18,1)\n",
        "print(y)\n",
        "y.resize(6,7)\n",
        "print(y)"
      ],
      "metadata": {
        "colab": {
          "base_uri": "https://localhost:8080/"
        },
        "id": "xeP-Nuuz3qtW",
        "outputId": "f5c035e0-8ef4-4f1a-f6dd-dc6c8b72f6e2"
      },
      "execution_count": null,
      "outputs": [
        {
          "output_type": "stream",
          "name": "stdout",
          "text": [
            "[ 0  1  2  3  4  5  6  7  8  9 10 11 12 13 14 15 16 17]\n",
            "[[ 0  1  2  3  4  5  6]\n",
            " [ 7  8  9 10 11 12 13]\n",
            " [14 15 16 17  0  0  0]\n",
            " [ 0  0  0  0  0  0  0]\n",
            " [ 0  0  0  0  0  0  0]\n",
            " [ 0  0  0  0  0  0  0]]\n"
          ]
        }
      ]
    },
    {
      "cell_type": "code",
      "source": [
        "# use operation\n",
        "p = numpy.arange(0,10,1)\n",
        "boolp = p < 5\n",
        "print(boolp)"
      ],
      "metadata": {
        "colab": {
          "base_uri": "https://localhost:8080/"
        },
        "id": "ACmdLhbt5N-U",
        "outputId": "e2e6fbba-a3b8-4cb1-ac21-919685dd2d08"
      },
      "execution_count": null,
      "outputs": [
        {
          "output_type": "stream",
          "name": "stdout",
          "text": [
            "[ True  True  True  True  True False False False False False]\n"
          ]
        }
      ]
    },
    {
      "cell_type": "code",
      "source": [
        "# wap to print all the even nums bw 0 - 100 using use operation\n",
        "p = numpy.arange(0,100,1)\n",
        "boolp = p%2==0\n",
        "print(boolp)"
      ],
      "metadata": {
        "colab": {
          "base_uri": "https://localhost:8080/"
        },
        "id": "6BOHCdv4575j",
        "outputId": "b63a611c-7a63-4c6a-bbf4-af2b31d899ed"
      },
      "execution_count": null,
      "outputs": [
        {
          "output_type": "stream",
          "name": "stdout",
          "text": [
            "[ True False  True False  True False  True False  True False  True False\n",
            "  True False  True False  True False  True False  True False  True False\n",
            "  True False  True False  True False  True False  True False  True False\n",
            "  True False  True False  True False  True False  True False  True False\n",
            "  True False  True False  True False  True False  True False  True False\n",
            "  True False  True False  True False  True False  True False  True False\n",
            "  True False  True False  True False  True False  True False  True False\n",
            "  True False  True False  True False  True False  True False  True False\n",
            "  True False  True False]\n"
          ]
        }
      ]
    },
    {
      "cell_type": "code",
      "source": [
        "p[boolp]"
      ],
      "metadata": {
        "colab": {
          "base_uri": "https://localhost:8080/"
        },
        "id": "r8A6qFJp6Q-T",
        "outputId": "b82f88b0-9029-4f5a-eef1-ac7d68d23ce7"
      },
      "execution_count": null,
      "outputs": [
        {
          "output_type": "execute_result",
          "data": {
            "text/plain": [
              "array([ 0,  2,  4,  6,  8, 10, 12, 14, 16, 18, 20, 22, 24, 26, 28, 30, 32,\n",
              "       34, 36, 38, 40, 42, 44, 46, 48, 50, 52, 54, 56, 58, 60, 62, 64, 66,\n",
              "       68, 70, 72, 74, 76, 78, 80, 82, 84, 86, 88, 90, 92, 94, 96, 98])"
            ]
          },
          "metadata": {},
          "execution_count": 61
        }
      ]
    },
    {
      "cell_type": "code",
      "source": [
        "#slice in 2D\n",
        "p = numpy.arange(0,16,1)\n",
        "print(p)"
      ],
      "metadata": {
        "colab": {
          "base_uri": "https://localhost:8080/"
        },
        "id": "cnOe2iJM66Fb",
        "outputId": "98e0766c-eb41-400e-c28a-439a541a5760"
      },
      "execution_count": null,
      "outputs": [
        {
          "output_type": "stream",
          "name": "stdout",
          "text": [
            "[ 0  1  2  3  4  5  6  7  8  9 10 11 12 13 14 15]\n"
          ]
        }
      ]
    },
    {
      "cell_type": "code",
      "source": [
        "p.resize(4,4)\n",
        "p"
      ],
      "metadata": {
        "colab": {
          "base_uri": "https://localhost:8080/"
        },
        "id": "yICEkOAO7bib",
        "outputId": "6b26f332-7796-4bc0-f641-4c949af01ddb"
      },
      "execution_count": null,
      "outputs": [
        {
          "output_type": "execute_result",
          "data": {
            "text/plain": [
              "array([[ 0,  1,  2,  3],\n",
              "       [ 4,  5,  6,  7],\n",
              "       [ 8,  9, 10, 11],\n",
              "       [12, 13, 14, 15]])"
            ]
          },
          "metadata": {},
          "execution_count": 82
        }
      ]
    },
    {
      "cell_type": "code",
      "source": [
        "p[0]"
      ],
      "metadata": {
        "colab": {
          "base_uri": "https://localhost:8080/"
        },
        "id": "xYJIUgk97983",
        "outputId": "56cdf948-da77-4e81-8ac2-e3d9afeba3e5"
      },
      "execution_count": null,
      "outputs": [
        {
          "output_type": "execute_result",
          "data": {
            "text/plain": [
              "array([0, 1, 2, 3])"
            ]
          },
          "metadata": {},
          "execution_count": 83
        }
      ]
    },
    {
      "cell_type": "code",
      "source": [
        "p[1:3,1:3]"
      ],
      "metadata": {
        "colab": {
          "base_uri": "https://localhost:8080/"
        },
        "id": "_v6lt1BN8Bxf",
        "outputId": "71605bc0-0e66-41a5-d59d-395d087c3928"
      },
      "execution_count": null,
      "outputs": [
        {
          "output_type": "execute_result",
          "data": {
            "text/plain": [
              "array([[ 5,  6],\n",
              "       [ 9, 10]])"
            ]
          },
          "metadata": {},
          "execution_count": 84
        }
      ]
    },
    {
      "cell_type": "code",
      "source": [
        "x = numpy.arange(1,10)\n",
        "x.resize(3,3)\n",
        "y = numpy.arange(1,10)\n",
        "y.resize(3,3)\n",
        "numpy.dot(x,y)\n"
      ],
      "metadata": {
        "colab": {
          "base_uri": "https://localhost:8080/"
        },
        "id": "5BKnOeot8RHK",
        "outputId": "744c83b0-f21f-4f90-8c89-38ec78dba555"
      },
      "execution_count": null,
      "outputs": [
        {
          "output_type": "execute_result",
          "data": {
            "text/plain": [
              "array([[ 30,  36,  42],\n",
              "       [ 66,  81,  96],\n",
              "       [102, 126, 150]])"
            ]
          },
          "metadata": {},
          "execution_count": 97
        }
      ]
    },
    {
      "cell_type": "code",
      "source": [
        "#mean\n",
        "numpy.mean(p)"
      ],
      "metadata": {
        "colab": {
          "base_uri": "https://localhost:8080/"
        },
        "id": "QHfMzgkZ-Wjf",
        "outputId": "b66a59b5-9063-4405-8a73-8be72eaa34de"
      },
      "execution_count": null,
      "outputs": [
        {
          "output_type": "execute_result",
          "data": {
            "text/plain": [
              "7.5"
            ]
          },
          "metadata": {},
          "execution_count": 98
        }
      ]
    },
    {
      "cell_type": "code",
      "source": [
        "# Matplotlib\n",
        "import numpy as np\n",
        "from matplotlib import pyplot as plt\n",
        "x = [3,4,5]\n",
        "y = [6,7,8]\n",
        "plt.bar(x,y)\n",
        "plt.show()"
      ],
      "metadata": {
        "colab": {
          "base_uri": "https://localhost:8080/",
          "height": 430
        },
        "id": "eq1sTY2n-iUc",
        "outputId": "2c872e1d-20bb-4603-a213-5c2e73b041ca"
      },
      "execution_count": null,
      "outputs": [
        {
          "output_type": "display_data",
          "data": {
            "text/plain": [
              "<Figure size 640x480 with 1 Axes>"
            ],
            "image/png": "[encoded data removed]"
          },
          "metadata": {}
        }
      ]
    },
    {
      "cell_type": "code",
      "source": [
        "x = np.array([3,4,5,6,7])\n",
        "y = np.array([2,9,8,7,3])\n",
        "plt.scatter(x,y)\n",
        "# plt.bar(x,y)\n",
        "plt.plot(x,y)\n",
        "# plt.pie(x,y)\n",
        "\n",
        "plt.xlabel(\"Height\")\n",
        "plt.ylabel(\"weight\")\n",
        "plt.title(\"Height-Weight Graph\")\n",
        "plt.show()"
      ],
      "metadata": {
        "colab": {
          "base_uri": "https://localhost:8080/",
          "height": 472
        },
        "id": "6zi7V4xVAZBF",
        "outputId": "53e23279-36dc-49ff-e6ca-5280ab78e68f"
      },
      "execution_count": null,
      "outputs": [
        {
          "output_type": "display_data",
          "data": {
            "text/plain": [
              "<Figure size 640x480 with 1 Axes>"
            ],
            "image/png": "[encoded data removed]"
          },
          "metadata": {}
        }
      ]
    },
    {
      "cell_type": "code",
      "source": [
        "# create a graph even red odd green\n",
        "x = np.arange(0,50,3)\n",
        "for i in range(len(x)):\n",
        "  if x[i]%2 == 0:\n",
        "    plt.scatter(x[i], x[i], c='b', s=100)\n",
        "  else:\n",
        "    plt.scatter( x[i], x[i], c='g')"
      ],
      "metadata": {
        "colab": {
          "base_uri": "https://localhost:8080/",
          "height": 433
        },
        "id": "vUnSoPFUCKV2",
        "outputId": "a655d3c1-f480-411e-de8f-7bf51e516086"
      },
      "execution_count": null,
      "outputs": [
        {
          "output_type": "display_data",
          "data": {
            "text/plain": [
              "<Figure size 640x480 with 1 Axes>"
            ],
            "image/png": "[encoded data removed]"
          },
          "metadata": {}
        }
      ]
    },
    {
      "cell_type": "code",
      "source": [
        "x = np.arange(1,50)\n",
        "for i in range(1,len(x)):\n",
        " if x[i]%i==0:\n",
        "    flag = 1\n",
        "    break\n",
        "if flag == 1:\n",
        "  print('Not Prime')\n",
        "else:\n",
        "  print(\"Prime\")\n"
      ],
      "metadata": {
        "colab": {
          "base_uri": "https://localhost:8080/"
        },
        "id": "gIyFZdBbE2cn",
        "outputId": "79430ad9-4dad-40e2-8a0e-ed685b8724c8"
      },
      "execution_count": null,
      "outputs": [
        {
          "output_type": "stream",
          "name": "stdout",
          "text": [
            "Not Prime\n"
          ]
        }
      ]
    }
  ]
}